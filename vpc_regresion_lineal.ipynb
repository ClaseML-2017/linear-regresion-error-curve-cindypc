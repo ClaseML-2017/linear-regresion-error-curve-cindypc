{
 "cells": [
  {
   "cell_type": "markdown",
   "metadata": {
    "deletable": true,
    "editable": true
   },
   "source": [
    "#Regresión Lineal"
   ]
  },
  {
   "cell_type": "code",
   "execution_count": 128,
   "metadata": {
    "collapsed": false,
    "deletable": true,
    "editable": true
   },
   "outputs": [],
   "source": [
    "import os\n",
    "import io\n",
    "import numpy as np\n",
    "import matplotlib.pyplot as plt\n",
    "import pandas as pd\n",
    "import csv\n",
    "from sklearn import linear_model\n",
    "from sklearn.model_selection import train_test_split\n",
    "from sklearn.linear_model import LinearRegression\n",
    "from sklearn import metrics\n",
    "from sklearn.metrics import mean_squared_error, r2_score\n",
    "%matplotlib inline\n",
    "\n",
    "\n",
    "reglin=pd.read_csv(\"/Users/valeriaperezcong/Desktop/ITAM/9/aprendizaje/udemy/DataScience-Python3/clase_reg_lin/regLin.csv\")\n",
    "\n",
    "#reglin"
   ]
  },
  {
   "cell_type": "code",
   "execution_count": 123,
   "metadata": {
    "collapsed": false,
    "deletable": true,
    "editable": true
   },
   "outputs": [
    {
     "data": {
      "image/png": "[encoded data removed]",
      "text/plain": [
       "<matplotlib.figure.Figure at 0x116ef6550>"
      ]
     },
     "metadata": {},
     "output_type": "display_data"
    }
   ],
   "source": [
    "## Dividimos en train set y test set (el test set no se toca)\n",
    "## el test size nos dice la proporción del set que se va a test\n",
    "X_train, X_test, y_train, y_test=train_test_split(reglin[['X']],reglin[['y']],test_size=0.3)\n",
    "\n",
    "#graficamos\n",
    "plt.plot(X_train, y_train, 'bo')\n",
    "plt.show()"
   ]
  },
  {
   "cell_type": "code",
   "execution_count": 129,
   "metadata": {
    "collapsed": false,
    "deletable": true,
    "editable": true
   },
   "outputs": [],
   "source": [
    "## Hacemos el fit del modelo con la train set\n",
    "lm=linear_model.LinearRegression()\n",
    "#entrenamos\n",
    "modelo=lm.fit(X_train,y_train)"
   ]
  },
  {
   "cell_type": "code",
   "execution_count": 130,
   "metadata": {
    "collapsed": false,
    "deletable": true,
    "editable": true
   },
   "outputs": [
    {
     "name": "stdout",
     "output_type": "stream",
     "text": [
      "Intercepto w0: \n",
      " [ 2.68784209]\n",
      "Coeficiente w1: \n",
      " [[ 0.60355424]]\n",
      "Mean squared error: 17.73\n",
      "R cuadrada: 0.95\n"
     ]
    }
   ],
   "source": [
    "# Ya que hicimos el fit con el train data, usamos el modelo para predecir la test data\n",
    "predictions = lm.predict(X_test)\n",
    "\n",
    "#Los coeficientes \n",
    "print('Intercepto w0: \\n', lm.intercept_)\n",
    "print('Coeficiente w1: \\n', lm.coef_)\n",
    "\n",
    "# El mean squared error\n",
    "print(\"Mean squared error: %.2f\"\n",
    "      % mean_squared_error(y_test, predictions))\n",
    "\n",
    "# R cuadrada\n",
    "print('R cuadrada: %.2f' % r2_score(y_test, predictions))"
   ]
  },
  {
   "cell_type": "code",
   "execution_count": 131,
   "metadata": {
    "collapsed": false,
    "deletable": true,
    "editable": true
   },
   "outputs": [
    {
     "data": {
      "image/png": "[encoded data removed]",
      "text/plain": [
       "<matplotlib.figure.Figure at 0x11657a048>"
      ]
     },
     "metadata": {},
     "output_type": "display_data"
    }
   ],
   "source": [
    "# Plot outputs\n",
    "plt.scatter(X_test, y_test,  color='blue')\n",
    "plt.plot(X_test, predictions, color='red', linewidth=3)\n",
    "\n",
    "plt.xticks(())\n",
    "plt.yticks(())\n",
    "\n",
    "plt.show()\n"
   ]
  },
  {
   "cell_type": "markdown",
   "metadata": {},
   "source": [
    "## Vemos la relación de w0 con errores, dejando w1 fija"
   ]
  },
  {
   "cell_type": "code",
   "execution_count": 132,
   "metadata": {
    "collapsed": false,
    "deletable": true,
    "editable": true
   },
   "outputs": [
    {
     "name": "stdout",
     "output_type": "stream",
     "text": [
      "309\n",
      "309\n",
      "309\n",
      "0.61152338\n",
      "309\n",
      "(309,)\n"
     ]
    }
   ],
   "source": [
    "#Haga una regresión lineal utilizando los datos provistos por el profesor (reglin)\n",
    "print (len(y_test))\n",
    "print (len(predictions))\n",
    "\n",
    "#hacemos los errores\n",
    "errores = y_test - predictions\n",
    "print (len(errores))\n",
    "\n",
    "#fijamos w1 primero\n",
    "experimento_w1=0.61152338\n",
    "print(experimento_w1)\n",
    "\n",
    "import numpy as np\n",
    "#arreglo_w0=[0,0.1,0.2,0.3,0.4,0.5,0.6,0.7,0.8,0.9,1,1.1,1.2,1.3,1.4,1.5,1.6,1.7,1.8,1.9,2,2.1,2.2,2.3,2.4,2.5,2.6,2.7,2.8,2.9,3,3.1,3.2,3.3,3.4,3.5,3.6,3.7,3.8,3.9,4,4.1,4.2,4.3,4.4,4.5]\n",
    "arreglo_w0=np.random.uniform(0,5,size=len(y_test))\n",
    "\n",
    "#print (arreglo_w0)\n",
    "print (len(arreglo_w0))\n",
    "print (arreglo_w0.shape)"
   ]
  },
  {
   "cell_type": "code",
   "execution_count": 167,
   "metadata": {
    "collapsed": false,
    "deletable": true,
    "editable": true
   },
   "outputs": [
    {
     "data": {
      "text/plain": [
       "(309, 1)"
      ]
     },
     "execution_count": 167,
     "metadata": {},
     "output_type": "execute_result"
    }
   ],
   "source": [
    "\n",
    "##b1_x = [i *experimento_w1  for i in X_test]\n",
    "\n",
    "#b1_x=[experimento_w1*X_test]\n",
    "\n",
    "#b1_x= X_test[:,'X'] *= experimento_w1\n",
    "\n",
    "#df.loc[:, 'quantity'] = df['quantity'] * -1\n",
    "#b1_x= X_test['X'] * experimento_w1\n",
    "\n",
    "\n",
    "##b1_x: multiplicamos w1 que está fijo por los valores de X\n",
    "\n",
    "b1_x = np.asarray(X_test) * experimento_w1\n",
    "\n",
    "\n"
   ]
  },
  {
   "cell_type": "code",
   "execution_count": 174,
   "metadata": {
    "collapsed": false
   },
   "outputs": [],
   "source": [
    "lista_w0 =arreglo_w0.reshape((309, 1))\n",
    "\n",
    "y_pred_w0= lista_w0 + b1_x\n",
    "#y_pred_w0.tolist()\n"
   ]
  },
  {
   "cell_type": "code",
   "execution_count": 176,
   "metadata": {
    "collapsed": false,
    "deletable": true,
    "editable": true
   },
   "outputs": [
    {
     "data": {
      "text/plain": [
       "(309, 1)"
      ]
     },
     "execution_count": 176,
     "metadata": {},
     "output_type": "execute_result"
    }
   ],
   "source": [
    "#Errores del modelo para varios valores de w0, dejando w1 fijo\n",
    "errores_w0=y_test-y_pred_w0"
   ]
  },
  {
   "cell_type": "code",
   "execution_count": 182,
   "metadata": {
    "collapsed": false,
    "deletable": true,
    "editable": true
   },
   "outputs": [
    {
     "data": {
      "image/png": "[encoded data removed]",
      "text/plain": [
       "<matplotlib.figure.Figure at 0x10460fa20>"
      ]
     },
     "metadata": {},
     "output_type": "display_data"
    }
   ],
   "source": [
    "# Plot outputs\n",
    "plt.scatter(lista_w0, errores_w0,  color='blue')\n",
    "#plt.plot(errores_w0, y_test, color='red', linewidth=3)\n",
    "plt.xlabel('valores w0')\n",
    "plt.ylabel('Errores')\n",
    "plt.show()\n",
    "\n",
    "plt.xlabel('valores w0')\n",
    "plt.ylabel('Probability')"
   ]
  },
  {
   "cell_type": "markdown",
   "metadata": {},
   "source": [
    "## Vemos la relación de w0 con errores, dejando w1 fija"
   ]
  },
  {
   "cell_type": "code",
   "execution_count": 184,
   "metadata": {
    "collapsed": false
   },
   "outputs": [
    {
     "name": "stdout",
     "output_type": "stream",
     "text": [
      "2.68784209\n",
      "309\n",
      "(309,)\n"
     ]
    }
   ],
   "source": [
    "\n",
    "\n",
    "#fijamos w1 primero\n",
    "experimento_w0=2.68784209\n",
    "print(experimento_w0)\n",
    "\n",
    "import numpy as np\n",
    "arreglo_w1=np.random.uniform(0,2,size=len(y_test))\n",
    "\n",
    "#print (arreglo_w0)\n",
    "print (len(arreglo_w1))\n",
    "print (arreglo_w1.shape)"
   ]
  },
  {
   "cell_type": "code",
   "execution_count": 198,
   "metadata": {
    "collapsed": false
   },
   "outputs": [],
   "source": [
    "lista_w1 =arreglo_w1.reshape((309, 1))\n",
    "\n",
    "b1_x1= lista_w1*X_test\n",
    "\n",
    "y_pred_w1= experimento_w0 + b1_x"
   ]
  },
  {
   "cell_type": "code",
   "execution_count": 199,
   "metadata": {
    "collapsed": true
   },
   "outputs": [],
   "source": [
    "#Errores del modelo para varios valores de w0, dejando w1 fijo\n",
    "errores_w1=y_test-y_pred_w1"
   ]
  },
  {
   "cell_type": "code",
   "execution_count": 200,
   "metadata": {
    "collapsed": false,
    "scrolled": true
   },
   "outputs": [
    {
     "data": {
      "image/png": "[encoded data removed]",
      "text/plain": [
       "<matplotlib.figure.Figure at 0x1130b86d8>"
      ]
     },
     "metadata": {},
     "output_type": "display_data"
    }
   ],
   "source": [
    "# Plot outputs\n",
    "plt.scatter(lista_w1, errores_w1,  color='blue')\n",
    "#plt.plot(errores_w0, y_test, color='red', linewidth=3)\n",
    "plt.xlabel('valores w1')\n",
    "plt.ylabel('Errores')\n",
    "plt.show()"
   ]
  },
  {
   "cell_type": "code",
   "execution_count": 201,
   "metadata": {
    "collapsed": false
   },
   "outputs": [
    {
     "ename": "SyntaxError",
     "evalue": "invalid syntax (<ipython-input-201-eaa35f7221b7>, line 1)",
     "output_type": "error",
     "traceback": [
      "\u001b[0;36m  File \u001b[0;32m\"<ipython-input-201-eaa35f7221b7>\"\u001b[0;36m, line \u001b[0;32m1\u001b[0m\n\u001b[0;31m    echo \"# linear-regresion-error-curve-cindypc\" >> README.md\u001b[0m\n\u001b[0m                                                ^\u001b[0m\n\u001b[0;31mSyntaxError\u001b[0m\u001b[0;31m:\u001b[0m invalid syntax\n"
     ]
    }
   ],
   "source": [
    "echo \"# linear-regresion-error-curve-cindypc\" >> README.md\n",
    "git init\n",
    "git add README.md\n",
    "git commit -m \"first commit\"\n",
    "git remote add origin https://github.com/ClaseML-2017/linear-regresion-error-curve-cindypc.git\n",
    "git push -u origin master\n"
   ]
  },
  {
   "cell_type": "code",
   "execution_count": null,
   "metadata": {
    "collapsed": true
   },
   "outputs": [],
   "source": []
  }
 ],
 "metadata": {
  "kernelspec": {
   "display_name": "Python 3",
   "language": "python",
   "name": "python3"
  },
  "language_info": {
   "codemirror_mode": {
    "name": "ipython",
    "version": 3
   },
   "file_extension": ".py",
   "mimetype": "text/x-python",
   "name": "python",
   "nbconvert_exporter": "python",
   "pygments_lexer": "ipython3",
   "version": "3.5.2"
  }
 },
 "nbformat": 4,
 "nbformat_minor": 2
}
