{
 "cells": [
  {
   "cell_type": "markdown",
   "metadata": {
    "deletable": true,
    "editable": true
   },
   "source": [
    "#Regresión Lineal"
   ]
  },
  {
   "cell_type": "code",
   "execution_count": 128,
   "metadata": {
    "collapsed": false,
    "deletable": true,
    "editable": true
   },
   "outputs": [],
   "source": [
    "import os\n",
    "import io\n",
    "import numpy as np\n",
    "import matplotlib.pyplot as plt\n",
    "import pandas as pd\n",
    "import csv\n",
    "from sklearn import linear_model\n",
    "from sklearn.model_selection import train_test_split\n",
    "from sklearn.linear_model import LinearRegression\n",
    "from sklearn import metrics\n",
    "from sklearn.metrics import mean_squared_error, r2_score\n",
    "%matplotlib inline\n",
    "\n",
    "\n",
    "reglin=pd.read_csv(\"/Users/valeriaperezcong/Desktop/ITAM/9/aprendizaje/udemy/DataScience-Python3/clase_reg_lin/regLin.csv\")\n",
    "\n",
    "#reglin"
   ]
  },
  {
   "cell_type": "code",
   "execution_count": 123,
   "metadata": {
    "collapsed": false,
    "deletable": true,
    "editable": true
   },
   "outputs": [
    {
     "data": {
      "image/png": "[encoded data removed]",
      "text/plain": [
       "<matplotlib.figure.Figure at 0x116ef6550>"
      ]
     },
     "metadata": {},
     "output_type": "display_data"
    }
   ],
   "source": [
    "## Dividimos en train set y test set (el test set no se toca)\n",
    "## el test size nos dice la proporción del set que se va a test\n",
    "X_train, X_test, y_train, y_test=train_test_split(reglin[['X']],reglin[['y']],test_size=0.3)\n",
    "\n",
    "#graficamos\n",
    "plt.plot(X_train, y_train, 'bo')\n",
    "plt.show()"
   ]
  },
  {
   "cell_type": "code",
   "execution_count": 129,
   "metadata": {
    "collapsed": false,
    "deletable": true,
    "editable": true
   },
   "outputs": [],
   "source": [
    "## Hacemos el fit del modelo con la train set\n",
    "lm=linear_model.LinearRegression()\n",
    "#entrenamos\n",
    "modelo=lm.fit(X_train,y_train)"
   ]
  },
  {
   "cell_type": "code",
   "execution_count": 130,
   "metadata": {
    "collapsed": false,
    "deletable": true,
    "editable": true
   },
   "outputs": [
    {
     "name": "stdout",
     "output_type": "stream",
     "text": [
      "Intercepto w0: \n",
      " [ 2.68784209]\n",
      "Coeficiente w1: \n",
      " [[ 0.60355424]]\n",
      "Mean squared error: 17.73\n",
      "R cuadrada: 0.95\n"
     ]
    }
   ],
   "source": [
    "# Ya que hicimos el fit con el train data, usamos el modelo para predecir la test data\n",
    "predictions = lm.predict(X_test)\n",
    "\n",
    "#Los coeficientes \n",
    "print('Intercepto w0: \\n', lm.intercept_)\n",
    "print('Coeficiente w1: \\n', lm.coef_)\n",
    "\n",
    "# El mean squared error\n",
    "print(\"Mean squared error: %.2f\"\n",
    "      % mean_squared_error(y_test, predictions))\n",
    "\n",
    "# R cuadrada\n",
    "print('R cuadrada: %.2f' % r2_score(y_test, predictions))"
   ]
  },
  {
   "cell_type": "code",
   "execution_count": 131,
   "metadata": {
    "collapsed": false,
    "deletable": true,
    "editable": true
   },
   "outputs": [
    {
     "data": {
      "image/png": "[encoded data removed]",
      "text/plain": [
       "<matplotlib.figure.Figure at 0x11657a048>"
      ]
     },
     "metadata": {},
     "output_type": "display_data"
    }
   ],
   "source": [
    "# Plot outputs\n",
    "plt.scatter(X_test, y_test,  color='blue')\n",
    "plt.plot(X_test, predictions, color='red', linewidth=3)\n",
    "\n",
    "plt.xticks(())\n",
    "plt.yticks(())\n",
    "\n",
    "plt.show()\n"
   ]
  },
  {
   "cell_type": "markdown",
   "metadata": {},
   "source": [
    "## Vemos la relación de w0 con errores, dejando w1 fija"
   ]
  },
  {
   "cell_type": "code",
   "execution_count": 226,
   "metadata": {
    "collapsed": false,
    "deletable": true,
    "editable": true
   },
   "outputs": [
    {
     "name": "stdout",
     "output_type": "stream",
     "text": [
      "309\n",
      "309\n",
      "309\n",
      "0.61152338\n",
      "309\n"
     ]
    }
   ],
   "source": [
    "#Haga una regresión lineal utilizando los datos provistos por el profesor (reglin)\n",
    "print (len(y_test))\n",
    "print (len(predictions))\n",
    "\n",
    "#hacemos los errores\n",
    "errores = y_test - predictions\n",
    "print (len(errores))\n",
    "\n",
    "#fijamos w1 primero\n",
    "experimento_w1=0.61152338\n",
    "print(experimento_w1)\n",
    "\n",
    "import numpy as np\n",
    "#arreglo_w0=[0,0.1,0.2,0.3,0.4,0.5,0.6,0.7,0.8,0.9,1,1.1,1.2,1.3,1.4,1.5,1.6,1.7,1.8,1.9,2,2.1,2.2,2.3,2.4,2.5,2.6,2.7,2.8,2.9,3,3.1,3.2,3.3,3.4,3.5,3.6,3.7,3.8,3.9,4,4.1,4.2,4.3,4.4,4.5]\n",
    "#arreglo_w0=np.random.uniform(0,5,size=len(y_test))\n",
    "arreglo_w0=np.linspace(0,5,309)\n",
    "\n",
    "#print (arreglo_w0)\n",
    "print (len(arreglo_w0))\n"
   ]
  },
  {
   "cell_type": "code",
   "execution_count": 218,
   "metadata": {
    "collapsed": false,
    "deletable": true,
    "editable": true
   },
   "outputs": [],
   "source": [
    "\n",
    "##b1_x = [i *experimento_w1  for i in X_test]\n",
    "\n",
    "#b1_x=[experimento_w1*X_test]\n",
    "\n",
    "#b1_x= X_test[:,'X'] *= experimento_w1\n",
    "\n",
    "#df.loc[:, 'quantity'] = df['quantity'] * -1\n",
    "#b1_x= X_test['X'] * experimento_w1\n",
    "\n",
    "\n",
    "##b1_x: multiplicamos w1 que está fijo por los valores de X\n",
    "\n",
    "b1_x = np.asarray(X_test) * experimento_w1\n",
    "\n",
    "\n"
   ]
  },
  {
   "cell_type": "code",
   "execution_count": 251,
   "metadata": {
    "collapsed": false
   },
   "outputs": [
    {
     "data": {
      "text/plain": [
       "33.34210513"
      ]
     },
     "execution_count": 251,
     "metadata": {},
     "output_type": "execute_result"
    }
   ],
   "source": [
    "y_test.iloc[90][0]"
   ]
  },
  {
   "cell_type": "code",
   "execution_count": 250,
   "metadata": {
    "collapsed": false
   },
   "outputs": [
    {
     "data": {
      "text/plain": [
       "array([-9.32667705])"
      ]
     },
     "execution_count": 250,
     "metadata": {},
     "output_type": "execute_result"
    }
   ],
   "source": [
    "b1_x[0]-y_test.iloc[0][0]"
   ]
  },
  {
   "cell_type": "code",
   "execution_count": 259,
   "metadata": {
    "collapsed": false
   },
   "outputs": [
    {
     "data": {
      "text/plain": [
       "[array([ 23.22269928]),\n",
       " array([ 23.1464333]),\n",
       " array([ 23.07069438]),\n",
       " array([ 22.99548253]),\n",
       " array([ 22.92079776]),\n",
       " array([ 22.84664005]),\n",
       " array([ 22.77300942]),\n",
       " array([ 22.69990585]),\n",
       " array([ 22.62732936]),\n",
       " array([ 22.55527993]),\n",
       " array([ 22.48375758]),\n",
       " array([ 22.41276229]),\n",
       " array([ 22.34229408]),\n",
       " array([ 22.27235294]),\n",
       " array([ 22.20293886]),\n",
       " array([ 22.13405186]),\n",
       " array([ 22.06569193]),\n",
       " array([ 21.99785907]),\n",
       " array([ 21.93055327]),\n",
       " array([ 21.86377455]),\n",
       " array([ 21.7975229]),\n",
       " array([ 21.73179832]),\n",
       " array([ 21.66660081]),\n",
       " array([ 21.60193037]),\n",
       " array([ 21.537787]),\n",
       " array([ 21.4741707]),\n",
       " array([ 21.41108147]),\n",
       " array([ 21.34851931]),\n",
       " array([ 21.28648423]),\n",
       " array([ 21.22497621]),\n",
       " array([ 21.16399526]),\n",
       " array([ 21.10354138]),\n",
       " array([ 21.04361457]),\n",
       " array([ 20.98421484]),\n",
       " array([ 20.92534217]),\n",
       " array([ 20.86699658]),\n",
       " array([ 20.80917805]),\n",
       " array([ 20.75188659]),\n",
       " array([ 20.69512221]),\n",
       " array([ 20.6388849]),\n",
       " array([ 20.58317465]),\n",
       " array([ 20.52799148]),\n",
       " array([ 20.47333537]),\n",
       " array([ 20.41920634]),\n",
       " array([ 20.36560438]),\n",
       " array([ 20.31252948]),\n",
       " array([ 20.25998166]),\n",
       " array([ 20.20796091]),\n",
       " array([ 20.15646723]),\n",
       " array([ 20.10550062]),\n",
       " array([ 20.05506108]),\n",
       " array([ 20.0051486]),\n",
       " array([ 19.9557632]),\n",
       " array([ 19.90690487]),\n",
       " array([ 19.85857361]),\n",
       " array([ 19.81076943]),\n",
       " array([ 19.76349231]),\n",
       " array([ 19.71674226]),\n",
       " array([ 19.67051928]),\n",
       " array([ 19.62482337]),\n",
       " array([ 19.57965453]),\n",
       " array([ 19.53501277]),\n",
       " array([ 19.49089807]),\n",
       " array([ 19.44731044]),\n",
       " array([ 19.40424989]),\n",
       " array([ 19.3617164]),\n",
       " array([ 19.31970998]),\n",
       " array([ 19.27823064]),\n",
       " array([ 19.23727836]),\n",
       " array([ 19.19685316]),\n",
       " array([ 19.15695502]),\n",
       " array([ 19.11758396]),\n",
       " array([ 19.07873997]),\n",
       " array([ 19.04042304]),\n",
       " array([ 19.00263319]),\n",
       " array([ 18.96537041]),\n",
       " array([ 18.92863469]),\n",
       " array([ 18.89242605]),\n",
       " array([ 18.85674448]),\n",
       " array([ 18.82158998]),\n",
       " array([ 18.78696255]),\n",
       " array([ 18.75286219]),\n",
       " array([ 18.7192889]),\n",
       " array([ 18.68624268]),\n",
       " array([ 18.65372353]),\n",
       " array([ 18.62173145]),\n",
       " array([ 18.59026644]),\n",
       " array([ 18.5593285]),\n",
       " array([ 18.52891763]),\n",
       " array([ 18.49903383]),\n",
       " array([ 18.46967711]),\n",
       " array([ 18.44084745]),\n",
       " array([ 18.41254486]),\n",
       " array([ 18.38476934]),\n",
       " array([ 18.3575209]),\n",
       " array([ 18.33079952]),\n",
       " array([ 18.30460522]),\n",
       " array([ 18.27893798]),\n",
       " array([ 18.25379782]),\n",
       " array([ 18.22918472]),\n",
       " array([ 18.2050987]),\n",
       " array([ 18.18153974]),\n",
       " array([ 18.15850786]),\n",
       " array([ 18.13600305]),\n",
       " array([ 18.1140253]),\n",
       " array([ 18.09257463]),\n",
       " array([ 18.07165103]),\n",
       " array([ 18.05125449]),\n",
       " array([ 18.03138503]),\n",
       " array([ 18.01204264]),\n",
       " array([ 17.99322732]),\n",
       " array([ 17.97493907]),\n",
       " array([ 17.95717789]),\n",
       " array([ 17.93994378]),\n",
       " array([ 17.92323674]),\n",
       " array([ 17.90705677]),\n",
       " array([ 17.89140387]),\n",
       " array([ 17.87627804]),\n",
       " array([ 17.86167928]),\n",
       " array([ 17.8476076]),\n",
       " array([ 17.83406298]),\n",
       " array([ 17.82104543]),\n",
       " array([ 17.80855495]),\n",
       " array([ 17.79659155]),\n",
       " array([ 17.78515521]),\n",
       " array([ 17.77424594]),\n",
       " array([ 17.76386375]),\n",
       " array([ 17.75400862]),\n",
       " array([ 17.74468057]),\n",
       " array([ 17.73587958]),\n",
       " array([ 17.72760567]),\n",
       " array([ 17.71985882]),\n",
       " array([ 17.71263905]),\n",
       " array([ 17.70594635]),\n",
       " array([ 17.69978071]),\n",
       " array([ 17.69414215]),\n",
       " array([ 17.68903066]),\n",
       " array([ 17.68444624]),\n",
       " array([ 17.68038888]),\n",
       " array([ 17.6768586]),\n",
       " array([ 17.67385539]),\n",
       " array([ 17.67137925]),\n",
       " array([ 17.66943018]),\n",
       " array([ 17.66800818]),\n",
       " array([ 17.66711325]),\n",
       " array([ 17.66674539]),\n",
       " array([ 17.6669046]),\n",
       " array([ 17.66759088]),\n",
       " array([ 17.66880423]),\n",
       " array([ 17.67054466]),\n",
       " array([ 17.67281215]),\n",
       " array([ 17.67560671]),\n",
       " array([ 17.67892834]),\n",
       " array([ 17.68277705]),\n",
       " array([ 17.68715282]),\n",
       " array([ 17.69205566]),\n",
       " array([ 17.69748558]),\n",
       " array([ 17.70344256]),\n",
       " array([ 17.70992662]),\n",
       " array([ 17.71693774]),\n",
       " array([ 17.72447594]),\n",
       " array([ 17.7325412]),\n",
       " array([ 17.74113354]),\n",
       " array([ 17.75025295]),\n",
       " array([ 17.75989942]),\n",
       " array([ 17.77007297]),\n",
       " array([ 17.78077359]),\n",
       " array([ 17.79200128]),\n",
       " array([ 17.80375603]),\n",
       " array([ 17.81603786]),\n",
       " array([ 17.82884676]),\n",
       " array([ 17.84218273]),\n",
       " array([ 17.85604577]),\n",
       " array([ 17.87043588]),\n",
       " array([ 17.88535306]),\n",
       " array([ 17.90079731]),\n",
       " array([ 17.91676863]),\n",
       " array([ 17.93326702]),\n",
       " array([ 17.95029248]),\n",
       " array([ 17.96784502]),\n",
       " array([ 17.98592462]),\n",
       " array([ 18.00453129]),\n",
       " array([ 18.02366503]),\n",
       " array([ 18.04332585]),\n",
       " array([ 18.06351373]),\n",
       " array([ 18.08422868]),\n",
       " array([ 18.10547071]),\n",
       " array([ 18.1272398]),\n",
       " array([ 18.14953597]),\n",
       " array([ 18.1723592]),\n",
       " array([ 18.19570951]),\n",
       " array([ 18.21958688]),\n",
       " array([ 18.24399133]),\n",
       " array([ 18.26892285]),\n",
       " array([ 18.29438143]),\n",
       " array([ 18.32036709]),\n",
       " array([ 18.34687982]),\n",
       " array([ 18.37391962]),\n",
       " array([ 18.40148648]),\n",
       " array([ 18.42958042]),\n",
       " array([ 18.45820143]),\n",
       " array([ 18.48734951]),\n",
       " array([ 18.51702466]),\n",
       " array([ 18.54722688]),\n",
       " array([ 18.57795617]),\n",
       " array([ 18.60921253]),\n",
       " array([ 18.64099596]),\n",
       " array([ 18.67330646]),\n",
       " array([ 18.70614403]),\n",
       " array([ 18.73950868]),\n",
       " array([ 18.77340039]),\n",
       " array([ 18.80781917]),\n",
       " array([ 18.84276502]),\n",
       " array([ 18.87823795]),\n",
       " array([ 18.91423794]),\n",
       " array([ 18.950765]),\n",
       " array([ 18.98781914]),\n",
       " array([ 19.02540034]),\n",
       " array([ 19.06350862]),\n",
       " array([ 19.10214396]),\n",
       " array([ 19.14130638]),\n",
       " array([ 19.18099586]),\n",
       " array([ 19.22121242]),\n",
       " array([ 19.26195605]),\n",
       " array([ 19.30322674]),\n",
       " array([ 19.34502451]),\n",
       " array([ 19.38734935]),\n",
       " array([ 19.43020125]),\n",
       " array([ 19.47358023]),\n",
       " array([ 19.51748628]),\n",
       " array([ 19.5619194]),\n",
       " array([ 19.60687959]),\n",
       " array([ 19.65236685]),\n",
       " array([ 19.69838118]),\n",
       " array([ 19.74492258]),\n",
       " array([ 19.79199105]),\n",
       " array([ 19.83958659]),\n",
       " array([ 19.8877092]),\n",
       " array([ 19.93635888]),\n",
       " array([ 19.98553563]),\n",
       " array([ 20.03523946]),\n",
       " array([ 20.08547035]),\n",
       " array([ 20.13622831]),\n",
       " array([ 20.18751334]),\n",
       " array([ 20.23932545]),\n",
       " array([ 20.29166462]),\n",
       " array([ 20.34453086]),\n",
       " array([ 20.39792418]),\n",
       " array([ 20.45184456]),\n",
       " array([ 20.50629202]),\n",
       " array([ 20.56126654]),\n",
       " array([ 20.61676814]),\n",
       " array([ 20.67279681]),\n",
       " array([ 20.72935254]),\n",
       " array([ 20.78643535]),\n",
       " array([ 20.84404523]),\n",
       " array([ 20.90218217]),\n",
       " array([ 20.96084619]),\n",
       " array([ 21.02003728]),\n",
       " array([ 21.07975544]),\n",
       " array([ 21.14000067]),\n",
       " array([ 21.20077297]),\n",
       " array([ 21.26207234]),\n",
       " array([ 21.32389877]),\n",
       " array([ 21.38625228]),\n",
       " array([ 21.44913287]),\n",
       " array([ 21.51254052]),\n",
       " array([ 21.57647524]),\n",
       " array([ 21.64093703]),\n",
       " array([ 21.70592589]),\n",
       " array([ 21.77144182]),\n",
       " array([ 21.83748482]),\n",
       " array([ 21.9040549]),\n",
       " array([ 21.97115204]),\n",
       " array([ 22.03877625]),\n",
       " array([ 22.10692754]),\n",
       " array([ 22.17560589]),\n",
       " array([ 22.24481132]),\n",
       " array([ 22.31454381]),\n",
       " array([ 22.38480338]),\n",
       " array([ 22.45559001]),\n",
       " array([ 22.52690372]),\n",
       " array([ 22.59874449]),\n",
       " array([ 22.67111234]),\n",
       " array([ 22.74400726]),\n",
       " array([ 22.81742924]),\n",
       " array([ 22.8913783]),\n",
       " array([ 22.96585443]),\n",
       " array([ 23.04085763]),\n",
       " array([ 23.11638789]),\n",
       " array([ 23.19244523]),\n",
       " array([ 23.26902964]),\n",
       " array([ 23.34614112]),\n",
       " array([ 23.42377967]),\n",
       " array([ 23.50194529]),\n",
       " array([ 23.58063798]),\n",
       " array([ 23.65985774]),\n",
       " array([ 23.73960457]),\n",
       " array([ 23.81987847]),\n",
       " array([ 23.90067945]),\n",
       " array([ 23.98200749]),\n",
       " array([ 24.0638626]),\n",
       " array([ 24.14624478]),\n",
       " array([ 24.22915404]),\n",
       " array([ 24.31259036]),\n",
       " array([ 24.39655375]),\n",
       " array([ 24.48104422]),\n",
       " array([ 24.56606175]),\n",
       " array([ 24.65160636])]"
      ]
     },
     "execution_count": 259,
     "metadata": {},
     "output_type": "execute_result"
    }
   ],
   "source": [
    "#y=wo+w1x1\n",
    "#dejo mi w1 fija\n",
    "#hago un modelo para cada wo nueva- para cada modelo calculo el error promedio y lo guardo en un arreglo \n",
    "#fijamos w1 primero\n",
    "experimento_w1=0.61152338\n",
    "#nuestras X\n",
    "\n",
    "errores=[]\n",
    "\n",
    "for wo in lista_w0:\n",
    "    suma_error=0\n",
    "    for i in range(len(y_test)):\n",
    "        y=wo + b1_x[i]\n",
    "        suma_error=suma_error + ((y_test.iloc[i][0]-y))**2\n",
    "    errores.append(suma_error/len(y_test))\n",
    "    \n",
    "errores\n",
    "    \n",
    "    "
   ]
  },
  {
   "cell_type": "code",
   "execution_count": 223,
   "metadata": {
    "collapsed": false
   },
   "outputs": [],
   "source": [
    "#lista_w0 =arreglo_w0.reshape((309, 1))\n",
    "\n",
    "#y_pred_w0= lista_w0 + b1_x\n",
    "#y=b1_x\n",
    "#y_pred_w0.tolist()\n"
   ]
  },
  {
   "cell_type": "code",
   "execution_count": 220,
   "metadata": {
    "collapsed": false,
    "deletable": true,
    "editable": true
   },
   "outputs": [
    {
     "data": {
      "text/plain": [
       "(309, 1)"
      ]
     },
     "execution_count": 220,
     "metadata": {},
     "output_type": "execute_result"
    }
   ],
   "source": [
    "#Errores del modelo para varios valores de w0, dejando w1 fijo\n",
    "#errores_w0=y_test-y_pred_w0\n",
    "#errores_w0.shape"
   ]
  },
  {
   "cell_type": "code",
   "execution_count": 263,
   "metadata": {
    "collapsed": false
   },
   "outputs": [
    {
     "data": {
      "image/png": "[encoded data removed]",
      "text/plain": [
       "<matplotlib.figure.Figure at 0x116588518>"
      ]
     },
     "metadata": {},
     "output_type": "display_data"
    }
   ],
   "source": [
    "plt.scatter(lista_w0,errores,  color='blue')\n",
    "plt.xlabel('valores w0')\n",
    "plt.ylabel('Errores')\n",
    "plt.show()"
   ]
  },
  {
   "cell_type": "markdown",
   "metadata": {},
   "source": [
    "## Vemos la relación de w1 con errores, dejando w0 fija"
   ]
  },
  {
   "cell_type": "code",
   "execution_count": 264,
   "metadata": {
    "collapsed": false
   },
   "outputs": [
    {
     "name": "stdout",
     "output_type": "stream",
     "text": [
      "2.68784209\n",
      "309\n"
     ]
    }
   ],
   "source": [
    "\n",
    "#fijamos w0 primero\n",
    "experimento_w0=2.68784209\n",
    "print(experimento_w0)\n",
    "\n",
    "import numpy as np\n",
    "#arreglo_w0=[0,0.1,0.2,0.3,0.4,0.5,0.6,0.7,0.8,0.9,1,1.1,1.2,1.3,1.4,1.5,1.6,1.7,1.8,1.9,2,2.1,2.2,2.3,2.4,2.5,2.6,2.7,2.8,2.9,3,3.1,3.2,3.3,3.4,3.5,3.6,3.7,3.8,3.9,4,4.1,4.2,4.3,4.4,4.5]\n",
    "#arreglo_w0=np.random.uniform(0,5,size=len(y_test))\n",
    "arreglo_w1=np.linspace(0,1.5,309)\n",
    "\n",
    "#print (arreglo_w0)\n",
    "print (len(arreglo_w1))"
   ]
  },
  {
   "cell_type": "code",
   "execution_count": 265,
   "metadata": {
    "collapsed": true
   },
   "outputs": [],
   "source": [
    "#y=wo+w1x1\n",
    "#dejo mi w0 fija\n",
    "#hago un modelo para cada w1 nueva- para cada modelo calculo el error promedio y lo guardo en un arreglo \n",
    "#fijamos w1 primero\n",
    "#nuestras X\n",
    "\n",
    "errores_w1=[]\n",
    "\n",
    "for w1 in arreglo_w1:\n",
    "    suma_error_w1=0\n",
    "    for i in range(len(y_test)):\n",
    "        y_w1=experimento_w0 + w1*X_test.iloc[i][0]\n",
    "        suma_error_w1=suma_error_w1 + ((y_test.iloc[i][0]-y_w1))**2\n",
    "    errores_w1.append(suma_error_w1/len(y_test))\n",
    "\n",
    "        \n",
    "    "
   ]
  },
  {
   "cell_type": "code",
   "execution_count": 267,
   "metadata": {
    "collapsed": false
   },
   "outputs": [
    {
     "data": {
      "image/png": "[encoded data removed]",
      "text/plain": [
       "<matplotlib.figure.Figure at 0x116c62d30>"
      ]
     },
     "metadata": {},
     "output_type": "display_data"
    }
   ],
   "source": [
    "plt.scatter(arreglo_w1,errores_w1,  color='blue')\n",
    "plt.xlabel('valores w1')\n",
    "plt.ylabel('Errores')\n",
    "plt.show()"
   ]
  },
  {
   "cell_type": "code",
   "execution_count": null,
   "metadata": {
    "collapsed": true
   },
   "outputs": [],
   "source": []
  },
  {
   "cell_type": "code",
   "execution_count": null,
   "metadata": {
    "collapsed": true
   },
   "outputs": [],
   "source": []
  },
  {
   "cell_type": "code",
   "execution_count": 184,
   "metadata": {
    "collapsed": false
   },
   "outputs": [
    {
     "name": "stdout",
     "output_type": "stream",
     "text": [
      "2.68784209\n",
      "309\n",
      "(309,)\n"
     ]
    }
   ],
   "source": [
    "\n",
    "\n",
    "#fijamos w1 primero\n",
    "#experimento_w0=2.68784209\n",
    "#print(experimento_w0)\n",
    "\n",
    "#import numpy as np\n",
    "#arreglo_w1=np.random.uniform(0,2,size=len(y_test))\n",
    "\n",
    "#print (arreglo_w0)\n",
    "#print (len(arreglo_w1))\n",
    "#print (arreglo_w1.shape)"
   ]
  },
  {
   "cell_type": "code",
   "execution_count": 198,
   "metadata": {
    "collapsed": false
   },
   "outputs": [],
   "source": [
    "#lista_w1 =arreglo_w1.reshape((309, 1))\n",
    "\n",
    "#b1_x1= lista_w1*X_test\n",
    "\n",
    "#y_pred_w1= experimento_w0 + b1_x"
   ]
  },
  {
   "cell_type": "code",
   "execution_count": 199,
   "metadata": {
    "collapsed": true
   },
   "outputs": [],
   "source": [
    "#Errores del modelo para varios valores de w0, dejando w1 fijo\n",
    "#errores_w1=y_test-y_pred_w1"
   ]
  },
  {
   "cell_type": "code",
   "execution_count": 200,
   "metadata": {
    "collapsed": false,
    "scrolled": true
   },
   "outputs": [
    {
     "data": {
      "image/png": "[encoded data removed]",
      "text/plain": [
       "<matplotlib.figure.Figure at 0x1130b86d8>"
      ]
     },
     "metadata": {},
     "output_type": "display_data"
    }
   ],
   "source": [
    "# Plot outputs\n",
    "#plt.scatter(lista_w1, errores_w1,  color='blue')\n",
    "#plt.plot(errores_w0, y_test, color='red', linewidth=3)\n",
    "#plt.xlabel('valores w1')\n",
    "#plt.ylabel('Errores')\n",
    "#plt.show()"
   ]
  },
  {
   "cell_type": "code",
   "execution_count": 201,
   "metadata": {
    "collapsed": false
   },
   "outputs": [
    {
     "ename": "SyntaxError",
     "evalue": "invalid syntax (<ipython-input-201-eaa35f7221b7>, line 1)",
     "output_type": "error",
     "traceback": [
      "\u001b[0;36m  File \u001b[0;32m\"<ipython-input-201-eaa35f7221b7>\"\u001b[0;36m, line \u001b[0;32m1\u001b[0m\n\u001b[0;31m    echo \"# linear-regresion-error-curve-cindypc\" >> README.md\u001b[0m\n\u001b[0m                                                ^\u001b[0m\n\u001b[0;31mSyntaxError\u001b[0m\u001b[0;31m:\u001b[0m invalid syntax\n"
     ]
    }
   ],
   "source": []
  },
  {
   "cell_type": "code",
   "execution_count": null,
   "metadata": {
    "collapsed": true
   },
   "outputs": [],
   "source": []
  }
 ],
 "metadata": {
  "kernelspec": {
   "display_name": "Python 3",
   "language": "python",
   "name": "python3"
  },
  "language_info": {
   "codemirror_mode": {
    "name": "ipython",
    "version": 3
   },
   "file_extension": ".py",
   "mimetype": "text/x-python",
   "name": "python",
   "nbconvert_exporter": "python",
   "pygments_lexer": "ipython3",
   "version": "3.5.2"
  }
 },
 "nbformat": 4,
 "nbformat_minor": 2
}
